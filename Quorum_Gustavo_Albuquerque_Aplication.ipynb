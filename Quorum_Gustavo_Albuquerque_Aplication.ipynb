{
  "cells": [
    {
      "cell_type": "markdown",
      "metadata": {
        "colab_type": "text",
        "id": "view-in-github"
      },
      "source": [
        "<a href=\"https://colab.research.google.com/github/GustavoRizzo/quorum-Gustavo-Albuquerque-Aplication/blob/main/Quorum_Gustavo_Albuquerque_Aplication.ipynb\" target=\"_parent\"><img src=\"https://colab.research.google.com/assets/colab-badge.svg\" alt=\"Open In Colab\"/></a>"
      ]
    },
    {
      "cell_type": "markdown",
      "metadata": {
        "id": "oHWyp_xs0lIU"
      },
      "source": [
        "# Quorum Chalange\n",
        "\n",
        "## Participant: Gustavo Rizzo Soares Mendes de Albuquerque\n",
        "###[LinkedIn](https://www.linkedin.com/in/)\n",
        "###[Personal Page](https://gustavorizzo.github.io/sketch-curriculum-components/)\n"
      ]
    },
    {
      "cell_type": "markdown",
      "metadata": {
        "id": "4Ac_hlmX0q-c"
      },
      "source": [
        "Firstly, I would like to mention that if this were not a test, I would choose to use Power BI instead of Python for this problem. This is because you already have the data processed and only need to aggregate it conveniently for visualization, and Power BI is well-suited for this role. Additionally, I am of the opinion that if a less technical tool meets the demands of the task, we should prefer it. It not only facilitates maintenance but also simplifies the hiring process.\n",
        "\n",
        "Since this is a programming test, I will solve it using Python. I opted to use Google Colab, even though it's not my preferred IDE, because it ensures that the evaluator can run the application through the browser without relying on legislatoral machine configurations.\n"
      ]
    },
    {
      "cell_type": "code",
      "execution_count": null,
      "metadata": {
        "id": "shq8nua10SAG"
      },
      "outputs": [],
      "source": [
        "# install libs\n",
        "!pip install -q pandas"
      ]
    },
    {
      "cell_type": "code",
      "execution_count": null,
      "metadata": {
        "id": "MEj-yZpo2vwK"
      },
      "outputs": [],
      "source": [
        "# import libs\n",
        "import pandas as pd"
      ]
    },
    {
      "cell_type": "code",
      "execution_count": null,
      "metadata": {
        "id": "7fcBnjhd20F5"
      },
      "outputs": [],
      "source": [
        "# Read paths\n",
        "BILLS_CSV = 'https://raw.githubusercontent.com/GustavoRizzo/quorum-Gustavo-Albuquerque-Aplication/main/bills.csv'\n",
        "LEGISLATOR_CSV = 'https://raw.githubusercontent.com/GustavoRizzo/quorum-Gustavo-Albuquerque-Aplication/main/legislators.csv'\n",
        "VOTES_CSV = 'https://raw.githubusercontent.com/GustavoRizzo/quorum-Gustavo-Albuquerque-Aplication/main/votes.csv'\n",
        "VOTE_RESULTS_CSV = 'https://raw.githubusercontent.com/GustavoRizzo/quorum-Gustavo-Albuquerque-Aplication/main/vote_results.csv'\n",
        "# Write paths\n",
        "LEGISLATOR_SUPOORT_OPPOSE_COUNT_PATH = 'legislators-support-oppose-count.csv'\n",
        "BILLS_PATH = 'bills.csv'"
      ]
    },
    {
      "cell_type": "code",
      "execution_count": null,
      "metadata": {
        "id": "EseVGCTr20DK"
      },
      "outputs": [],
      "source": [
        "# Data Types\n",
        "bills_type = {'id': int, 'primary sponsor': int}\n",
        "legislator_type = {'id': int, 'name': str}\n",
        "votes_type = {'id': int, 'bill_id': int}\n",
        "vote_results_type = {'id': int, 'legislator_id': int, 'vote_id': int, 'vote_type': int}"
      ]
    },
    {
      "cell_type": "code",
      "execution_count": null,
      "metadata": {
        "id": "mekGxhWM20AZ"
      },
      "outputs": [],
      "source": [
        "# Load dataframe\n",
        "df_bills = pd.read_csv(BILLS_CSV, dtype=bills_type)\n",
        "df_legislator = pd.read_csv(LEGISLATOR_CSV, dtype=legislator_type)\n",
        "df_votes = pd.read_csv(VOTES_CSV, dtype=votes_type)\n",
        "df_vote_results = pd.read_csv(VOTE_RESULTS_CSV, dtype=vote_results_type)"
      ]
    },
    {
      "cell_type": "code",
      "execution_count": null,
      "metadata": {
        "id": "_ppRwo292z9J"
      },
      "outputs": [],
      "source": [
        "# Just for vote results I will change a little bit the be more readable\n",
        "def map_vote_type(vote_type):\n",
        "    if vote_type == 1:\n",
        "        return 'YES'\n",
        "    elif vote_type == 2:\n",
        "        return 'NO'\n",
        "    else:\n",
        "        return 'N/A'\n",
        "\n",
        "df_vote_results['vote_type_str'] = df_vote_results['vote_type'].apply(map_vote_type)"
      ]
    },
    {
      "cell_type": "code",
      "execution_count": null,
      "metadata": {
        "id": "WNzk9Dfa2zyq"
      },
      "outputs": [],
      "source": [
        "# 1. How many bills did each legislator sponsor?\n",
        "# Assuming that the legislator only vote once per bill\n",
        "df_vote_results_grouped = (\n",
        "    df_vote_results.groupby('legislator_id')\n",
        "    .agg(\n",
        "            num_supported_bills=('vote_type_str', lambda x: (x == 'YES').sum()),\n",
        "            num_opposed_bills=('vote_type_str', lambda x: (x == 'NO').sum())\n",
        "        )\n",
        "    )\n",
        "\n",
        "# Merge with legislator to get name column\n",
        "df_legislator_supoort_oppose_count = pd.merge(df_legislator, df_vote_results_grouped, left_on='id', right_on='legislator_id', how='left')\n",
        "# Beautifying the columns\n",
        "df_legislator_supoort_oppose_count['num_supported_bills'] = df_legislator_supoort_oppose_count['num_supported_bills'].fillna(0).astype(int)\n",
        "df_legislator_supoort_oppose_count['num_opposed_bills'] = df_legislator_supoort_oppose_count['num_opposed_bills'].fillna(0).astype(int)\n",
        "\n",
        "# export to csv\n",
        "df_legislator_supoort_oppose_count.to_csv(LEGISLATOR_SUPOORT_OPPOSE_COUNT_PATH, index=False)"
      ]
    },
    {
      "cell_type": "code",
      "execution_count": null,
      "metadata": {
        "id": "D4J_Dri05WQc"
      },
      "outputs": [],
      "source": [
        "# 2. How many bills did each legislator sponsor that passed?\n",
        "# Assuming that the legislator only vote once per bill\n",
        "df_vote_results_grouped2 = (\n",
        "    df_vote_results.groupby('vote_id')\n",
        "    .agg(\n",
        "            supporter_count =('vote_type_str', lambda x: (x == 'YES').sum()),\n",
        "            opposer_count=('vote_type_str', lambda x: (x == 'NO').sum())\n",
        "        )\n",
        "    )\n",
        "\n",
        "# Merge with votes, bills and legislator to get bill_id, title and primary_sponsor\n",
        "df_merge1 = pd.merge(df_vote_results_grouped2, df_votes, left_on='vote_id', right_on='id', how='left')\n",
        "df_merge2 = pd.merge(df_merge1, df_bills, left_on='bill_id', right_on='id', how='left')\n",
        "df_merge3 = pd.merge(df_merge2, df_legislator, left_on='sponsor_id', right_on='id', how='left')\n",
        "\n",
        "# Building the final dataframe\n",
        "df_bills2 = df_merge3[['bill_id', 'title', 'supporter_count', 'opposer_count', 'name']]\n",
        "# Beautifying the columns\n",
        "df_bills2 = df_bills2.rename(columns={\n",
        "    'bill_id': 'id',\n",
        "    'name': 'primary_sponsor',\n",
        "    })\n",
        "# If column primary_sponsor is null, then fill with 'Unknown'\n",
        "df_bills2['primary_sponsor'] = df_bills2['primary_sponsor'].fillna('Unknown')\n",
        "\n",
        "# export to csv\n",
        "df_bills2.to_csv(BILLS_PATH, index=False)"
      ]
    },
    {
      "cell_type": "markdown",
      "metadata": {
        "id": "w-vm93V3562D"
      },
      "source": [
        "#Questions"
      ]
    },
    {
      "cell_type": "markdown",
      "metadata": {
        "id": "9qyirOqy6IaT"
      },
      "source": [
        "## 1. Discuss your solution’s time complexity. What tradeoffs did you make?\n",
        "\n",
        "As I mentioned in the comment before the code, if this were a real-world problem presented to me, I would solve it using Power BI. The development would be faster, and the visualization for the end user would be more user-friendly. If I were to address this problem as a data engineer, I would solve it using SQL. With two queries, we could meet the requirements with much less code.\n",
        "\n"
      ]
    },
    {
      "cell_type": "markdown",
      "metadata": {
        "id": "iD47wLII6Tw0"
      },
      "source": [
        "## 2. How would you change your solution to account forfuture columns that might be requested, such as “Bill Voted On Date” or“Co-Sponsors”?\n",
        "\n",
        "We wouldn't have any issues adding this information because I believe \"Bill Voted On Date\" would come from the Excel file Vote.csv, and the column \"Co-Sponsors\" from the Excel file Bills.csv. We are already merging these tables into df_merged1 and df_merged2, respectively. Therefore, it would be a matter of specifying the addition of these columns when constructing df_bills2.\n"
      ]
    },
    {
      "cell_type": "markdown",
      "metadata": {
        "id": "shXSvf2p6wpC"
      },
      "source": [
        "## 3. How would you change your solution if instead ofreceiving CSVs of data, you were given a list of legislators or bills that you should generate a CSV for?\n",
        "\n",
        "\n",
        "\n",
        "```python\n",
        "# Create a list of names to filter\n",
        "names_to_filter = ['Rep. John Yarmuth (D-KY-3)', 'Rep. John Yarmuth (D-KY-4)', 'Rep. Jamaal Bowman (D-NY-16)']\n",
        "# Filter the dataframes\n",
        "df_new = df_legislator_supoort_oppose_count[df_legislator_supoort_oppose_count['name'].isin(names_to_filter)]\n",
        "df_new.head()\n",
        "df_new2 = df_bills2[df_bills2['primary_sponsor'].isin(names_to_filter)]\n",
        "df_new2.head()\n",
        "```"
      ]
    },
    {
      "cell_type": "markdown",
      "metadata": {
        "id": "sxTv4pIi7P40"
      },
      "source": [
        "## 4. How long did you spend working on the assignment?\n",
        "\n",
        "I spend 2 hours working on the main code and a little bit more to answer the questions and bealtify that file."
      ]
    }
  ],
  "metadata": {
    "colab": {
      "authorship_tag": "ABX9TyPaSqNULgHtS486iGIW8127",
      "include_colab_link": true,
      "private_outputs": true,
      "provenance": []
    },
    "kernelspec": {
      "display_name": "Python 3",
      "name": "python3"
    },
    "language_info": {
      "name": "python"
    }
  },
  "nbformat": 4,
  "nbformat_minor": 0
}
